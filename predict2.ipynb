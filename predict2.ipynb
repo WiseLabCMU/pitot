{
 "cells": [
  {
   "cell_type": "code",
   "execution_count": 1,
   "metadata": {},
   "outputs": [],
   "source": [
    "import torch\n",
    "import numpy as np\n",
    "from matplotlib import pyplot as plt\n",
    "from dataset import Dataset\n",
    "from tqdm.notebook import tqdm"
   ]
  },
  {
   "cell_type": "code",
   "execution_count": 2,
   "metadata": {},
   "outputs": [],
   "source": [
    "def to_param(x):\n",
    "    return torch.nn.parameter.Parameter(\n",
    "        torch.tensor(x.astype(np.float32)), requires_grad=True)"
   ]
  },
  {
   "cell_type": "code",
   "execution_count": 28,
   "metadata": {},
   "outputs": [],
   "source": [
    "class MFA(torch.nn.Module):\n",
    "\n",
    "    def __init__(self, d=32, scale=1.0, dims=(10, 10)):\n",
    "\n",
    "        super().__init__()\n",
    "\n",
    "        x1 = np.random.uniform(size=(dims[0], d)) * np.sqrt(scale / d)\n",
    "        x2 = np.random.uniform(size=(dims[1], d)) * np.sqrt(scale / d)\n",
    "        self.x1 = to_param(x1)\n",
    "        self.x2 = to_param(x2)\n",
    "    \n",
    "    def forward(self, idx):\n",
    "        return torch.logsumexp(self.x1[idx[:, 0]] + self.x2[idx[:, 1]], 1)"
   ]
  },
  {
   "cell_type": "code",
   "execution_count": 3,
   "metadata": {},
   "outputs": [],
   "source": [
    "class MF(torch.nn.Module):\n",
    "\n",
    "    def __init__(self, d=32, scale=1.0, dims=(10, 10)):\n",
    "\n",
    "        super().__init__()\n",
    "\n",
    "        x1 = np.random.uniform(size=(dims[0], d)) * np.sqrt(scale / d)\n",
    "        x2 = np.random.uniform(size=(dims[1], d)) * np.sqrt(scale / d)\n",
    "        self.x1 = to_param(x1)\n",
    "        self.x2 = to_param(x2)\n",
    "    \n",
    "    def forward(self, idx):\n",
    "        return torch.sum(self.x1[idx[:, 0]] * self.x2[idx[:, 1]], axis=1)\n"
   ]
  },
  {
   "cell_type": "code",
   "execution_count": 4,
   "metadata": {},
   "outputs": [],
   "source": [
    "class MFNN(torch.nn.Module):\n",
    "\n",
    "    def __init__(self, d=32, scale=1.0, dims=(10, 10)):\n",
    "\n",
    "        super().__init__()\n",
    "\n",
    "        x1 = np.random.uniform(size=(dims[0], d)) * np.sqrt(scale / d)\n",
    "        x2 = np.random.uniform(size=(dims[1], d)) * np.sqrt(scale / d)\n",
    "        self.x1 = to_param(x1)\n",
    "        self.x2 = to_param(x2)\n",
    "\n",
    "        self.fc1 = torch.nn.Linear(d * 2, 64)\n",
    "        self.fc2 = torch.nn.Linear(64, 32)\n",
    "        self.out = torch.nn.Linear(32, 1)\n",
    "\n",
    "    def forward(self, idx):\n",
    "        \n",
    "        x = torch.concat([self.x1[idx[:, 0]], self.x2[idx[:, 1]]], axis=1)\n",
    "        x = torch.sigmoid(self.fc1(x))\n",
    "        x = torch.sigmoid(self.fc2(x))\n",
    "        return self.out(x).reshape(-1)\n"
   ]
  },
  {
   "cell_type": "code",
   "execution_count": 5,
   "metadata": {},
   "outputs": [],
   "source": [
    "class MFNNPlus(torch.nn.Module):\n",
    "\n",
    "    def __init__(self, features, d=32, scale=1.0, dims=(10, 10)):\n",
    "\n",
    "        super().__init__()\n",
    "\n",
    "        x2 = np.random.uniform(size=(dims[1], d)) * np.sqrt(scale / d)\n",
    "        self.x2 = to_param(x2)\n",
    "\n",
    "        self.features = torch.tensor(features)\n",
    "\n",
    "        self.fc1 = torch.nn.Linear(d + features.shape[1], 64)\n",
    "        self.fc2 = torch.nn.Linear(64, 32)\n",
    "        self.out = torch.nn.Linear(32, 1)\n",
    "\n",
    "    def forward(self, idx):\n",
    "\n",
    "        x = torch.concat(\n",
    "            [self.x2[idx[:, 1]], self.features[idx[:, 0]]], axis=1)\n",
    "        x = torch.sigmoid(self.fc1(x))\n",
    "        x = torch.sigmoid(self.fc2(x))\n",
    "        return self.out(x).reshape(-1)\n"
   ]
  },
  {
   "cell_type": "code",
   "execution_count": 26,
   "metadata": {},
   "outputs": [],
   "source": [
    "class MFNNBoth(torch.nn.Module):\n",
    "\n",
    "    def __init__(self, features, d=32, scale=1.0, dims=(10, 10)):\n",
    "\n",
    "        super().__init__()\n",
    "\n",
    "        x1 = np.random.uniform(size=(dims[0], d)) * np.sqrt(scale / d)\n",
    "        x2 = np.random.uniform(size=(dims[1], d)) * np.sqrt(scale / d)\n",
    "        self.x1 = to_param(x1)\n",
    "        self.x2 = to_param(x2)\n",
    "\n",
    "        self.features = torch.tensor(features)\n",
    "\n",
    "        self.fc1 = torch.nn.Linear(d * 2 + features.shape[1], 64)\n",
    "        self.fc2 = torch.nn.Linear(64, 32)\n",
    "        self.out = torch.nn.Linear(32, 1)\n",
    "\n",
    "    def forward(self, idx):\n",
    "\n",
    "        inputs = [\n",
    "            self.x1[idx[:, 0]], self.x2[idx[:, 1]], self.features[idx[:, 0]]]\n",
    "        x = torch.concat(inputs, axis=1)\n",
    "        x = torch.sigmoid(self.fc1(x))\n",
    "        x = torch.sigmoid(self.fc2(x))\n",
    "        return self.out(x).reshape(-1)"
   ]
  },
  {
   "cell_type": "code",
   "execution_count": 21,
   "metadata": {},
   "outputs": [],
   "source": [
    "def train(ds, model, initlr=0.001, steps=100, batch=64, disable_pbar=False):\n",
    "    train_loss = []\n",
    "    val_loss = []\n",
    "\n",
    "    opt = torch.optim.Adam(model.parameters(), lr=initlr)\n",
    "    sch = torch.optim.lr_scheduler.ReduceLROnPlateau(opt)\n",
    "\n",
    "    for _ in tqdm(range(100), disable=disable_pbar):\n",
    "        epoch_losses = []\n",
    "        for _ in range(steps):\n",
    "\n",
    "            opt.zero_grad()\n",
    "\n",
    "            idx = ds.sample(batch, split='train')\n",
    "            pred = model.forward(idx)\n",
    "            loss = ds.loss(pred, idx=idx)\n",
    "\n",
    "            loss.backward()\n",
    "\n",
    "            opt.step()\n",
    "\n",
    "            epoch_losses.append(loss.detach().cpu().numpy())\n",
    "\n",
    "        train_loss.append(np.mean(epoch_losses))\n",
    "        sch.step(train_loss[-1])\n",
    "        \n",
    "        with torch.no_grad():\n",
    "            pred = model.forward(ds.splits['val'])\n",
    "            loss = ds.loss(pred, split='val')\n",
    "            val_loss.append(loss.detach().cpu().numpy())\n",
    "    \n",
    "    return np.array(train_loss), np.array(val_loss)"
   ]
  },
  {
   "cell_type": "code",
   "execution_count": 22,
   "metadata": {},
   "outputs": [],
   "source": [
    "def evaluate(data, model_constructor, sparsity=0.5, repeat=10):\n",
    "    print(\"Sparsity={}\".format(sparsity))\n",
    "    device = torch.device('cpu')\n",
    "    losses = []\n",
    "    for _ in tqdm(range(repeat)):\n",
    "        ds = Dataset(data=data, val=1 - sparsity, device=device)\n",
    "        model = model_constructor().to(device)\n",
    "        losses.append(train(ds, model, batch=64, steps=100, disable_pbar=True))\n",
    "    return np.array([x[0] for x in losses]), np.array([x[1] for x in losses])"
   ]
  },
  {
   "cell_type": "code",
   "execution_count": 29,
   "metadata": {},
   "outputs": [],
   "source": [
    "from sklearn.decomposition import PCA\n",
    "\n",
    "ds = Dataset(data=\"../data/polybench/20-40.npz\")\n",
    "opcodes_pca = PCA().fit_transform(ds.opcodes)[:, :8]\n",
    "\n",
    "def _mf():\n",
    "    return MF(d=1, scale=ds.rms, dims=ds.matrix.shape)\n",
    "def _mfa():\n",
    "    return MFA(d=1, scale=ds.rms, dims=ds.matrix.shape)\n",
    "def _mfnn():\n",
    "    return MFNN(d=8, scale=ds.rms, dims=ds.matrix.shape)\n",
    "def _mfnnp():\n",
    "    return MFNNPlus(\n",
    "        features=ds.opcodes, d=8, scale=ds.rms, dims=ds.matrix.shape)\n",
    "def _mfnnpca():\n",
    "    return MFNNPlus(\n",
    "        features=opcodes_pca, d=8, scale=ds.rms, dims=ds.matrix.shape)\n",
    "def _mfnnboth():\n",
    "    return MFNNBoth(\n",
    "        features=opcodes_pca, d=8, scale=ds.rms, dims=ds.matrix.shape)"
   ]
  },
  {
   "cell_type": "code",
   "execution_count": 30,
   "metadata": {},
   "outputs": [
    {
     "name": "stdout",
     "output_type": "stream",
     "text": [
      "mfa\n",
      "Sparsity=0.95\n"
     ]
    },
    {
     "data": {
      "application/vnd.jupyter.widget-view+json": {
       "model_id": "152fd2be606d46d5b973549f541b5641",
       "version_major": 2,
       "version_minor": 0
      },
      "text/plain": [
       "  0%|          | 0/10 [00:00<?, ?it/s]"
      ]
     },
     "metadata": {},
     "output_type": "display_data"
    },
    {
     "name": "stdout",
     "output_type": "stream",
     "text": [
      "Sparsity=0.9\n"
     ]
    },
    {
     "data": {
      "application/vnd.jupyter.widget-view+json": {
       "model_id": "23eddf97c94e4477bf719a4f717340de",
       "version_major": 2,
       "version_minor": 0
      },
      "text/plain": [
       "  0%|          | 0/10 [00:00<?, ?it/s]"
      ]
     },
     "metadata": {},
     "output_type": "display_data"
    },
    {
     "name": "stdout",
     "output_type": "stream",
     "text": [
      "Sparsity=0.75\n"
     ]
    },
    {
     "data": {
      "application/vnd.jupyter.widget-view+json": {
       "model_id": "bef37509d99044a0a1e5a563aa76e0ea",
       "version_major": 2,
       "version_minor": 0
      },
      "text/plain": [
       "  0%|          | 0/10 [00:00<?, ?it/s]"
      ]
     },
     "metadata": {},
     "output_type": "display_data"
    },
    {
     "name": "stdout",
     "output_type": "stream",
     "text": [
      "Sparsity=0.5\n"
     ]
    },
    {
     "data": {
      "application/vnd.jupyter.widget-view+json": {
       "model_id": "42a9c806fa61453c8d9c0ee5dc518c9e",
       "version_major": 2,
       "version_minor": 0
      },
      "text/plain": [
       "  0%|          | 0/10 [00:00<?, ?it/s]"
      ]
     },
     "metadata": {},
     "output_type": "display_data"
    },
    {
     "name": "stdout",
     "output_type": "stream",
     "text": [
      "Sparsity=0.25\n"
     ]
    },
    {
     "data": {
      "application/vnd.jupyter.widget-view+json": {
       "model_id": "c14cd3db980d4772a5cc0c1203ffd406",
       "version_major": 2,
       "version_minor": 0
      },
      "text/plain": [
       "  0%|          | 0/10 [00:00<?, ?it/s]"
      ]
     },
     "metadata": {},
     "output_type": "display_data"
    },
    {
     "name": "stdout",
     "output_type": "stream",
     "text": [
      "Sparsity=0.1\n"
     ]
    },
    {
     "data": {
      "application/vnd.jupyter.widget-view+json": {
       "model_id": "2b5db3559d02419bbcb55b112bc48c86",
       "version_major": 2,
       "version_minor": 0
      },
      "text/plain": [
       "  0%|          | 0/10 [00:00<?, ?it/s]"
      ]
     },
     "metadata": {},
     "output_type": "display_data"
    },
    {
     "name": "stdout",
     "output_type": "stream",
     "text": [
      "Sparsity=0.05\n"
     ]
    },
    {
     "data": {
      "application/vnd.jupyter.widget-view+json": {
       "model_id": "d5ca136bd8e5436dbf21df4cb6cdfef3",
       "version_major": 2,
       "version_minor": 0
      },
      "text/plain": [
       "  0%|          | 0/10 [00:00<?, ?it/s]"
      ]
     },
     "metadata": {},
     "output_type": "display_data"
    }
   ],
   "source": [
    "# [0] - sparsity (7)\n",
    "# [1] - replicate (10)\n",
    "# [2] - checkpoint (100)\n",
    "\n",
    "methods = {\n",
    "    # \"mf\": _mf,\n",
    "    \"mfa\": _mfa,\n",
    "    # \"mfnn\": _mfnn,\n",
    "    # \"mfnn_opcodes\": _mfnnp,\n",
    "    # \"mfnn_pca\": _mfnnpca\n",
    "    # \"mfnn_both\": _mfnnboth\n",
    "}\n",
    "for method, func in methods.items():\n",
    "    print(method)\n",
    "    res = [\n",
    "        evaluate(ds.data, func, sparsity=s, repeat=10)\n",
    "        for s in [0.95, 0.9, 0.75, 0.5, 0.25, 0.1, 0.05]]\n",
    "    train_loss = np.array([r[0] for r in res])\n",
    "    val_loss = np.array([r[1] for r in res])\n",
    "\n",
    "    np.savez(\"{}.npz\".format(method), train=train_loss, val=val_loss)"
   ]
  }
 ],
 "metadata": {
  "interpreter": {
   "hash": "b6448d6617850456fe9f7bc43aec45f498e73f2434ce6710bd2bd70f835d35c9"
  },
  "kernelspec": {
   "display_name": "Python 3.9.12 ('silverline')",
   "language": "python",
   "name": "python3"
  },
  "language_info": {
   "codemirror_mode": {
    "name": "ipython",
    "version": 3
   },
   "file_extension": ".py",
   "mimetype": "text/x-python",
   "name": "python",
   "nbconvert_exporter": "python",
   "pygments_lexer": "ipython3",
   "version": "3.9.12"
  },
  "orig_nbformat": 4
 },
 "nbformat": 4,
 "nbformat_minor": 2
}
