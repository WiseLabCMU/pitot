{
 "cells": [
  {
   "cell_type": "code",
   "execution_count": 7,
   "metadata": {},
   "outputs": [],
   "source": [
    "import torch\n",
    "import numpy as np\n",
    "from matplotlib import pyplot as plt\n",
    "from dataset import Dataset\n",
    "from tqdm.notebook import tqdm"
   ]
  },
  {
   "cell_type": "code",
   "execution_count": 8,
   "metadata": {},
   "outputs": [],
   "source": [
    "ds = Dataset(source=\"../data/polybench/20-40.npz\")\n",
    "idxtrain, idxval = ds.partition(0.25)"
   ]
  },
  {
   "cell_type": "code",
   "execution_count": 3,
   "metadata": {},
   "outputs": [
    {
     "name": "stdout",
     "output_type": "stream",
     "text": [
      "0.2792031938480987\n"
     ]
    }
   ],
   "source": [
    "U, S, V = np.linalg.svd(ds.matrix)\n",
    "\n",
    "def reconstruct(d=16):\n",
    "    return U[:, :d] @ np.diag(S[:d]) @ V[:d]\n",
    "\n",
    "def err(pred):\n",
    "    return np.sqrt(np.mean(np.square(np.log(pred) - np.log(ds.matrix))))\n",
    "\n",
    "print(err(reconstruct(d=1)))"
   ]
  },
  {
   "cell_type": "code",
   "execution_count": 16,
   "metadata": {},
   "outputs": [],
   "source": [
    "def sample(split, batch=64):\n",
    "    choices = np.random.choice(np.arange(split.shape[0]), size=batch)\n",
    "    return split[choices]"
   ]
  },
  {
   "cell_type": "code",
   "execution_count": 14,
   "metadata": {},
   "outputs": [],
   "source": [
    "def log_sq_loss(pred, true):\n",
    "    return torch.mean(torch.square(pred - torch.log(true)))\n",
    "\n",
    "\n",
    "class NMF:\n",
    "\n",
    "    def __init__(self, d=32, scale=1.0, dims=(10, 10), log=False):\n",
    "        x1 = np.random.uniform(size=(dims[0], d)) * np.sqrt(scale / d)\n",
    "        x2 = np.random.uniform(size=(dims[1], d)) * np.sqrt(scale / d)\n",
    "        self.x1 = torch.tensor(x1.astype(np.float32), requires_grad = True)\n",
    "        self.x2 = torch.tensor(x2.astype(np.float32), requires_grad = True)\n",
    "        self.log = log\n",
    "\n",
    "        self.weights = [self.x1, self.x2]\n",
    "    \n",
    "    def forward(self, idx):\n",
    "        res = torch.sum(self.x1[idx[:, 0]] * self.x2[idx[:, 1]], axis=1)\n",
    "        if not self.log:\n",
    "            return torch.log(res)\n",
    "        else:\n",
    "            return res\n",
    "\n",
    "    def project(self):\n",
    "        with torch.no_grad():\n",
    "            self.x1[self.x1 < 0] = 0.\n",
    "            self.x2[self.x2 < 0] = 0."
   ]
  },
  {
   "cell_type": "code",
   "execution_count": 10,
   "metadata": {},
   "outputs": [],
   "source": [
    "class MFNN:\n",
    "\n",
    "    def __init__(self, d=32, scale=1.0, dims=(10, 10), log=False):\n",
    "        x1 = np.random.uniform(size=(dims[0], d)) * np.sqrt(scale / d)\n",
    "        x2 = np.random.uniform(size=(dims[1], d)) * np.sqrt(scale / d)\n",
    "        self.x1 = torch.tensor(x1.astype(np.float32), requires_grad = True)\n",
    "        self.x2 = torch.tensor(x2.astype(np.float32), requires_grad = True)\n",
    "\n",
    "        self.fc = [\n",
    "            torch.nn.Linear(d * 2, 64),\n",
    "            torch.nn.Linear(64, 32),\n",
    "        ]\n",
    "        self.out = torch.nn.Linear(32, 1)\n",
    "\n",
    "        self.weights = (\n",
    "            [self.x1, self.x2, self.out.weight] + [f.weight for f in self.fc])\n",
    "    \n",
    "    def forward(self, idx):\n",
    "        \n",
    "        x = torch.concat(\n",
    "            [self.x1[idx[:, 0]], self.x2[idx[:, 1]]], axis=1)\n",
    "        for fc in self.fc:\n",
    "            x = fc(x)\n",
    "            x = torch.sigmoid(x)\n",
    "        return self.out(x).reshape(-1)\n",
    "\n",
    "    def project(self):\n",
    "        pass"
   ]
  },
  {
   "cell_type": "code",
   "execution_count": 11,
   "metadata": {},
   "outputs": [],
   "source": [
    "class NMFPlus:\n",
    "\n",
    "    def __init__(self, features, d=32, scale=1.0, dims=(10, 10)):\n",
    "\n",
    "        # x1 = np.random.uniform(size=(dims[0], d)) * np.sqrt(scale / d)\n",
    "        x2 = np.random.uniform(size=(dims[1], d)) * np.sqrt(scale / d)\n",
    "        # self.x1 = torch.tensor(x1.astype(np.float32), requires_grad=True)\n",
    "        self.x2 = torch.tensor(x2.astype(np.float32), requires_grad=True)\n",
    "\n",
    "        self.features = torch.tensor(features)\n",
    "\n",
    "        self.fc = [\n",
    "            torch.nn.Linear(d + features.shape[1], 64),\n",
    "            torch.nn.Linear(64, 32),\n",
    "        ]\n",
    "        self.out = torch.nn.Linear(32, 1)\n",
    "\n",
    "        self.weights = (\n",
    "            [self.x2, self.out.weight] + [f.weight for f in self.fc])\n",
    "\n",
    "    def forward(self, idx):\n",
    "\n",
    "        # x = torch.concat(\n",
    "        #     [self.x1[idx[:, 0]], self.x2[idx[:, 1]], self.features[idx[:, 0]]],\n",
    "        #     axis=1)\n",
    "        x = torch.concat(\n",
    "            [self.x2[idx[:, 1]], self.features[idx[:, 0]]], axis=1)\n",
    "        for fc in self.fc:\n",
    "            x = fc(x)\n",
    "            x = torch.sigmoid(x)\n",
    "        return self.out(x).reshape(-1)\n",
    "    \n",
    "    def project(self):\n",
    "        pass\n"
   ]
  },
  {
   "cell_type": "code",
   "execution_count": 12,
   "metadata": {},
   "outputs": [],
   "source": [
    "def train(model, idxtrain, idxval, X, batch=64, steps=1000, initlr=0.001):\n",
    "\n",
    "    train_loss = []\n",
    "    val_loss = []\n",
    "\n",
    "    opt = torch.optim.Adam(model.weights, lr=initlr)\n",
    "    sch = torch.optim.lr_scheduler.ReduceLROnPlateau(opt)\n",
    "    for _ in tqdm(range(100)):\n",
    "        epoch_losses = []\n",
    "        for _ in range(steps):\n",
    "\n",
    "            opt.zero_grad()\n",
    "\n",
    "            idx = sample(idxtrain, batch)\n",
    "            pred = model.forward(idx)\n",
    "            loss = log_sq_loss(pred, X[idx[:, 0], idx[:, 1]])\n",
    "\n",
    "            loss.backward()\n",
    "\n",
    "            opt.step()\n",
    "            model.project()\n",
    "\n",
    "            epoch_losses.append(loss.detach().numpy())\n",
    "\n",
    "        train_loss.append(np.mean(epoch_losses))\n",
    "        sch.step(train_loss[-1])\n",
    "        \n",
    "        pred = model.forward(idxval)\n",
    "        loss = log_sq_loss(pred, X[idxval[:, 0], idxval[:, 1]])\n",
    "        val_loss.append(loss.detach().numpy())\n",
    "\n",
    "    return np.array(train_loss), np.array(val_loss)\n"
   ]
  },
  {
   "cell_type": "code",
   "execution_count": 17,
   "metadata": {},
   "outputs": [
    {
     "data": {
      "application/vnd.jupyter.widget-view+json": {
       "model_id": "296e1729513d494e9b16daf2a4aadd7c",
       "version_major": 2,
       "version_minor": 0
      },
      "text/plain": [
       "  0%|          | 0/100 [00:00<?, ?it/s]"
      ]
     },
     "metadata": {},
     "output_type": "display_data"
    }
   ],
   "source": [
    "model = NMF(d=1, scale=np.mean(ds.matrix), dims=ds.matrix.shape)\n",
    "\n",
    "train_loss, val_loss = train(\n",
    "    model, idxtrain, idxval, torch.tensor(ds.matrix),\n",
    "    batch=64, steps=1000, initlr=0.002)"
   ]
  },
  {
   "cell_type": "code",
   "execution_count": 18,
   "metadata": {},
   "outputs": [
    {
     "data": {
      "text/plain": [
       "Text(0.5, 1.0, 'D=32: val_best=0.224')"
      ]
     },
     "execution_count": 18,
     "metadata": {},
     "output_type": "execute_result"
    },
    {
     "data": {
      "image/png": "[encoded data removed]",
      "text/plain": [
       "<Figure size 576x432 with 1 Axes>"
      ]
     },
     "metadata": {
      "needs_background": "light"
     },
     "output_type": "display_data"
    }
   ],
   "source": [
    "\n",
    "fig, axs = plt.subplots(1, 1, figsize=(8, 6))\n",
    "axs.plot(np.sqrt(train_loss))\n",
    "axs.plot(np.sqrt(val_loss))\n",
    "axs.set_ylim(0, 2)\n",
    "axs.set_title(\"D={}: val_best={:.3f}\".format(32, np.nanmin(np.sqrt(val_loss))))"
   ]
  },
  {
   "cell_type": "code",
   "execution_count": 19,
   "metadata": {},
   "outputs": [
    {
     "data": {
      "application/vnd.jupyter.widget-view+json": {
       "model_id": "5d078b2b39ff4d2c8fc1db071f8090c9",
       "version_major": 2,
       "version_minor": 0
      },
      "text/plain": [
       "  0%|          | 0/100 [00:00<?, ?it/s]"
      ]
     },
     "metadata": {},
     "output_type": "display_data"
    }
   ],
   "source": [
    "model = MFNN(d=8, scale=np.mean(ds.matrix), dims=ds.matrix.shape)\n",
    "\n",
    "train_loss, val_loss = train(\n",
    "    model, idxtrain, idxval, torch.tensor(ds.matrix),\n",
    "    batch=64, steps=100, initlr=0.001)"
   ]
  },
  {
   "cell_type": "code",
   "execution_count": 20,
   "metadata": {},
   "outputs": [
    {
     "data": {
      "text/plain": [
       "Text(0.5, 1.0, 'val_best=0.237')"
      ]
     },
     "execution_count": 20,
     "metadata": {},
     "output_type": "execute_result"
    },
    {
     "data": {
      "image/png": "[encoded data removed]",
      "text/plain": [
       "<Figure size 576x432 with 1 Axes>"
      ]
     },
     "metadata": {
      "needs_background": "light"
     },
     "output_type": "display_data"
    }
   ],
   "source": [
    "fig, axs = plt.subplots(1, 1, figsize=(8, 6))\n",
    "axs.plot(np.sqrt(train_loss))\n",
    "axs.plot(np.sqrt(val_loss))\n",
    "axs.set_ylim(0, 2)\n",
    "axs.set_title(\"val_best={:.3f}\".format(np.nanmin(np.sqrt(val_loss))))"
   ]
  },
  {
   "cell_type": "code",
   "execution_count": 217,
   "metadata": {},
   "outputs": [
    {
     "data": {
      "application/vnd.jupyter.widget-view+json": {
       "model_id": "3811cc6344854da3b8c224d950a0a3ac",
       "version_major": 2,
       "version_minor": 0
      },
      "text/plain": [
       "  0%|          | 0/100 [00:00<?, ?it/s]"
      ]
     },
     "metadata": {},
     "output_type": "display_data"
    }
   ],
   "source": [
    "from sklearn.decomposition import PCA\n",
    "\n",
    "ft = PCA().fit_transform(np.log(ds.opcodes + 1))[:, :8]\n",
    "model = NMFPlus(ft, d=8, scale=np.mean(ds.matrix), dims=ds.matrix.shape)\n",
    "\n",
    "train_loss, val_loss = train(\n",
    "    model, idxtrain, idxval, torch.tensor(ds.matrix), batch=64, steps=100)"
   ]
  },
  {
   "cell_type": "code",
   "execution_count": 218,
   "metadata": {},
   "outputs": [
    {
     "data": {
      "text/plain": [
       "Text(0.5, 1.0, 'D=32: val_best=0.255')"
      ]
     },
     "execution_count": 218,
     "metadata": {},
     "output_type": "execute_result"
    },
    {
     "data": {
      "image/png": "[encoded data removed]",
      "text/plain": [
       "<Figure size 576x432 with 1 Axes>"
      ]
     },
     "metadata": {
      "needs_background": "light"
     },
     "output_type": "display_data"
    }
   ],
   "source": [
    "fig, axs = plt.subplots(1, 1, figsize=(8, 6))\n",
    "axs.plot(np.sqrt(train_loss))\n",
    "axs.plot(np.sqrt(val_loss))\n",
    "axs.set_ylim(0, 1)\n",
    "axs.set_title(\"D={}: val_best={:.3f}\".format(32, np.min(np.sqrt(val_loss))))\n"
   ]
  }
 ],
 "metadata": {
  "interpreter": {
   "hash": "b6448d6617850456fe9f7bc43aec45f498e73f2434ce6710bd2bd70f835d35c9"
  },
  "kernelspec": {
   "display_name": "Python 3.9.12 ('silverline')",
   "language": "python",
   "name": "python3"
  },
  "language_info": {
   "codemirror_mode": {
    "name": "ipython",
    "version": 3
   },
   "file_extension": ".py",
   "mimetype": "text/x-python",
   "name": "python",
   "nbconvert_exporter": "python",
   "pygments_lexer": "ipython3",
   "version": "3.9.12"
  },
  "orig_nbformat": 4
 },
 "nbformat": 4,
 "nbformat_minor": 2
}
