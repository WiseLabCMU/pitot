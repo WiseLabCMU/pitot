{
 "cells": [
  {
   "cell_type": "code",
   "execution_count": 1,
   "metadata": {},
   "outputs": [],
   "source": [
    "import os\n",
    "from functools import partial\n",
    "from tqdm.notebook import tqdm\n",
    "\n",
    "from jax import random\n",
    "import optax\n",
    "\n",
    "import dataset\n",
    "import train\n",
    "from models import MFLinear, MFNN, MFNNSI"
   ]
  },
  {
   "cell_type": "code",
   "execution_count": 2,
   "metadata": {},
   "outputs": [],
   "source": [
    "ds = dataset.Dataset(\"../data/polybench/20-40.npz\")\n",
    "kwargs = {\"scale\": ds.rms, \"samples\": ds.matrix.shape}\n",
    "\n",
    "pca = ds.opcodes_pca\n",
    "\n",
    "models = {\n",
    "    \"mf_linear\": partial(MFLinear, dim=1, **kwargs),\n",
    "    \"mf_nn_8\": partial(MFNN, dim=(8, 8), **kwargs),\n",
    "    \"mf_nn_32\": partial(MFNN, dim=(32, 32), **kwargs),\n",
    "    \"mf_opcodes_8\": partial(MFNNSI, ds.opcodes, dim=(0, 8), **kwargs),\n",
    "    \"mf_opcodes_32\": partial(MFNNSI, ds.opcodes, dim=(0, 32), **kwargs),\n",
    "    \"mf_pca_8\": partial(MFNNSI, pca[:, :8], dim=(0, 8), **kwargs),\n",
    "    \"mf_pca_32\": partial(MFNNSI, pca[:, :32], dim=(0, 32), **kwargs),    \n",
    "    \"mf_both_8\": partial(MFNNSI, pca[:, :8], dim=(8, 8), **kwargs),\n",
    "    \"mf_both_32\": partial(MFNNSI, pca[:, :32], dim=(32, 32), **kwargs),\n",
    "}\n",
    "\n",
    "sparsity = [0.05, 0.1, 0.25, 0.5, 0.75, 0.9, 0.95]"
   ]
  },
  {
   "cell_type": "code",
   "execution_count": 4,
   "metadata": {},
   "outputs": [
    {
     "data": {
      "application/vnd.jupyter.widget-view+json": {
       "model_id": "76c3bc2969154b5788dfe764342f0fd8",
       "version_major": 2,
       "version_minor": 0
      },
      "text/plain": [
       "mf_linear : 0.05:   0%|          | 0/100 [00:00<?, ?it/s]"
      ]
     },
     "metadata": {},
     "output_type": "display_data"
    }
   ],
   "source": [
    "optimizer = optax.adam(0.001)\n",
    "key = random.PRNGKey(42)\n",
    "\n",
    "for model, constructor in models.items():\n",
    "\n",
    "    model_dir = os.path.join(\"results\", model)\n",
    "    os.makedirs(model_dir, exist_ok=True)\n",
    "\n",
    "    for s in sparsity:\n",
    "        trainer = train.ReplicateTrainer(\n",
    "            ds, constructor, optimizer=optimizer,\n",
    "            epochs=100, epoch_size=100, batch=64,\n",
    "            tqdm=partial(tqdm, desc=\"{} : {}\".format(model, s)))\n",
    "\n",
    "        res = trainer.train_replicates(key, replicates=100, p=s)\n",
    "        trainer.save_results(res, os.path.join(model_dir, \"{}.npz\".format(s)))"
   ]
  }
 ],
 "metadata": {
  "interpreter": {
   "hash": "31f2aee4e71d21fbe5cf8b01ff0e069b9275f58929596ceb00d14d90e3e16cd6"
  },
  "kernelspec": {
   "display_name": "silverline",
   "language": "python",
   "name": "silverline"
  },
  "language_info": {
   "codemirror_mode": {
    "name": "ipython",
    "version": 3
   },
   "file_extension": ".py",
   "mimetype": "text/x-python",
   "name": "python",
   "nbconvert_exporter": "python",
   "pygments_lexer": "ipython3",
   "version": "3.9.12"
  },
  "orig_nbformat": 4
 },
 "nbformat": 4,
 "nbformat_minor": 2
}
