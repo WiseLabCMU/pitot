{
 "cells": [
  {
   "cell_type": "code",
   "execution_count": 2,
   "metadata": {},
   "outputs": [],
   "source": [
    "import os\n",
    "from functools import partial\n",
    "from tqdm.notebook import tqdm\n",
    "\n",
    "from jax import random\n",
    "\n",
    "import dataset\n",
    "import train\n",
    "from models import MFLinear, MFNN, MFNNSI, MFNNResidual, LinearModel, Embedding"
   ]
  },
  {
   "cell_type": "code",
   "execution_count": 3,
   "metadata": {},
   "outputs": [],
   "source": [
    "ds = dataset.Dataset(\"../data/polybench/20-40.npz\")\n",
    "kwargs = {\"scale\": ds.rms, \"samples\": ds.matrix.shape}\n",
    "\n",
    "pca = ds.opcodes_pca\n",
    "\n",
    "models = {\n",
    "    # \"rank1\": (MFLinear, {\"dim\": 1, **kwargs}),\n",
    "    # \"rank8\": (MFLinear, {\"dim\": 8, **kwargs}),\n",
    "    # \"rank32\": (MFLinear, {\"dim\": 32, **kwargs}),\n",
    "    \"nn8\": (MFNN, {\"dim\": (8, 8), **kwargs}),\n",
    "    \"nn32\": (MFNN, {\"dim\": (32, 32), **kwargs}),\n",
    "    \"opcodes8\": (MFNNSI, {\"side_info\": ds.opcodes, \"dim\": (0, 8), **kwargs}),\n",
    "    \"opcodes32\": (MFNNSI, {\"side_info\": ds.opcodes, \"dim\": (0, 32), **kwargs}),\n",
    "    \"pca8\": (MFNNSI, {\"side_info\": pca[:, :8], \"dim\": (0, 8), **kwargs}),\n",
    "    \"pca32\": (MFNNSI, {\"side_info\": pca[:, :32], \"dim\": (0, 32), **kwargs}),\n",
    "    \"both8\": (MFNNSI, {\"side_info\": pca[:, :8], \"dim\": (8, 8), **kwargs}),\n",
    "    \"both32\": (MFNNSI, {\"side_info\": pca[:, :32], \"dim\": (32, 32), **kwargs}),\n",
    "    \"linearopcodes\": (LinearModel, {\"features\": ds.opcodes, **kwargs}),\n",
    "    \"linearpca\": (LinearModel, {\"features\": pca[:, :32], **kwargs}),\n",
    "    \"embedding\": (Embedding, {\"side_info\": pca[:, :32], **kwargs})\n",
    "}\n",
    "\n",
    "sparsity = [0.05, 0.1, 0.25, 0.5, 0.75, 0.9, 0.95]"
   ]
  },
  {
   "cell_type": "code",
   "execution_count": 4,
   "metadata": {},
   "outputs": [
    {
     "data": {
      "application/vnd.jupyter.widget-view+json": {
       "model_id": "b08acfd37b8c42bb83ab482cb6a28697",
       "version_major": 2,
       "version_minor": 0
      },
      "text/plain": [
       "nn8 : 0.05:   0%|          | 0/100 [00:00<?, ?it/s]"
      ]
     },
     "metadata": {},
     "output_type": "display_data"
    }
   ],
   "source": [
    "key = random.PRNGKey(42)\n",
    "\n",
    "for model, (constr, kwargs) in models.items():\n",
    "\n",
    "    model_dir = os.path.join(\"results\", model)\n",
    "    os.makedirs(model_dir, exist_ok=True)\n",
    "\n",
    "    for s in sparsity:\n",
    "        trainer = train.ReplicateTrainer(\n",
    "            ds, partial(constr, **kwargs), optimizer=constr.optimizer,\n",
    "            epochs=constr.epochs, epoch_size=constr.epoch_size,\n",
    "            batch=64, tqdm=partial(tqdm, desc=\"{} : {}\".format(model, s)))\n",
    "\n",
    "        res = trainer.train_replicates(key, replicates=200, p=s)\n",
    "        trainer.save_results(res, os.path.join(model_dir, \"{}.npz\".format(s)))"
   ]
  }
 ],
 "metadata": {
  "interpreter": {
   "hash": "b6448d6617850456fe9f7bc43aec45f498e73f2434ce6710bd2bd70f835d35c9"
  },
  "kernelspec": {
   "display_name": "silverline",
   "language": "python",
   "name": "python3"
  },
  "language_info": {
   "codemirror_mode": {
    "name": "ipython",
    "version": 3
   },
   "file_extension": ".py",
   "mimetype": "text/x-python",
   "name": "python",
   "nbconvert_exporter": "python",
   "pygments_lexer": "ipython3",
   "version": "3.9.12"
  }
 },
 "nbformat": 4,
 "nbformat_minor": 2
}
