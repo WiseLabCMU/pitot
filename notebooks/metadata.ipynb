{
 "cells": [
  {
   "cell_type": "code",
   "execution_count": 4,
   "metadata": {},
   "outputs": [
    {
     "name": "stdout",
     "output_type": "stream",
     "text": [
      "/home/tianshu/Documents/pitot\n"
     ]
    }
   ],
   "source": [
    "%cd .."
   ]
  },
  {
   "cell_type": "code",
   "execution_count": 113,
   "metadata": {},
   "outputs": [],
   "source": [
    "import os\n",
    "import numpy as np\n",
    "from matplotlib import pyplot as plt"
   ]
  },
  {
   "cell_type": "markdown",
   "metadata": {},
   "source": [
    "## Training Time"
   ]
  },
  {
   "cell_type": "code",
   "execution_count": 3,
   "metadata": {},
   "outputs": [
    {
     "name": "stdout",
     "output_type": "stream",
     "text": [
      "Quantile: 12.078089319868013\n",
      "Nonquantile: 11.489769534906372\n"
     ]
    }
   ],
   "source": [
    "def get_train_times(method):\n",
    "    tt = []\n",
    "    for split in os.listdir(method):\n",
    "        if os.path.isdir(os.path.join(method, split)):\n",
    "            for i in range(5):\n",
    "                tt.append(np.load(\n",
    "                    os.path.join(method, split, \"{}.npz\").format(i))['time'])\n",
    "    return tt\n",
    "\n",
    "print(\"Quantile:\", np.median(get_train_times(\"results/conformal/optimal\")))\n",
    "print(\"Nonquantile:\", np.median(get_train_times(\"results/pitot\")))"
   ]
  },
  {
   "cell_type": "markdown",
   "metadata": {},
   "source": [
    "## Size"
   ]
  },
  {
   "cell_type": "code",
   "execution_count": 122,
   "metadata": {},
   "outputs": [
    {
     "data": {
      "text/plain": [
       "111200"
      ]
     },
     "execution_count": 122,
     "metadata": {},
     "output_type": "execute_result"
    }
   ],
   "source": [
    "import pickle\n",
    "from jax import tree_util\n",
    "\n",
    "\n",
    "with open(\"results/conformal/optimal/0.9/0.pkl\", 'rb') as f:\n",
    "    size = tree_util.tree_map(lambda x: x.size, pickle.load(f).params)\n",
    "\n",
    "sum(tree_util.tree_leaves(size))"
   ]
  }
 ],
 "metadata": {
  "kernelspec": {
   "display_name": "jax",
   "language": "python",
   "name": "python3"
  },
  "language_info": {
   "codemirror_mode": {
    "name": "ipython",
    "version": 3
   },
   "file_extension": ".py",
   "mimetype": "text/x-python",
   "name": "python",
   "nbconvert_exporter": "python",
   "pygments_lexer": "ipython3",
   "version": "3.11.3"
  }
 },
 "nbformat": 4,
 "nbformat_minor": 2
}
